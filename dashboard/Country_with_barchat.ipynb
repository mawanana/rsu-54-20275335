{
 "cells": [
  {
   "cell_type": "code",
   "execution_count": 1,
   "id": "e4b19699-49fe-41c0-b027-6bd30fd47986",
   "metadata": {},
   "outputs": [
    {
     "name": "stderr",
     "output_type": "stream",
     "text": [
      "/var/folders/y3/k251xs_s3c3dgw01ys3t1_wm0000gq/T/ipykernel_90913/4234216199.py:2: UserWarning: \n",
      "The dash_core_components package is deprecated. Please replace\n",
      "`import dash_core_components as dcc` with `from dash import dcc`\n",
      "  import dash_core_components as dcc\n",
      "/var/folders/y3/k251xs_s3c3dgw01ys3t1_wm0000gq/T/ipykernel_90913/4234216199.py:3: UserWarning: \n",
      "The dash_html_components package is deprecated. Please replace\n",
      "`import dash_html_components as html` with `from dash import html`\n",
      "  import dash_html_components as html\n"
     ]
    },
    {
     "data": {
      "text/html": [
       "\n",
       "        <iframe\n",
       "            width=\"100%\"\n",
       "            height=\"650\"\n",
       "            src=\"http://127.0.0.1:8050/\"\n",
       "            frameborder=\"0\"\n",
       "            allowfullscreen\n",
       "            \n",
       "        ></iframe>\n",
       "        "
      ],
      "text/plain": [
       "<IPython.lib.display.IFrame at 0x7fcebb34f880>"
      ]
     },
     "metadata": {},
     "output_type": "display_data"
    }
   ],
   "source": [
    "import dash\n",
    "import dash_core_components as dcc\n",
    "import dash_html_components as html\n",
    "from dash.dependencies import Input, Output\n",
    "import plotly.express as px\n",
    "import pandas as pd\n",
    "\n",
    "# Sample data for India, Sri Lanka, Canada, and South Africa\n",
    "data = pd.DataFrame({\n",
    "    'Country': ['India', 'Sri Lanka', 'Canada', 'South Africa'],\n",
    "    'Subscribers': [1000000, 250000, 500000, 750000],\n",
    "    'Videos': [500, 300, 600, 400],\n",
    "    'Likes': [50000, 3000, 6000, 40000],\n",
    "    'Comments': [2000, 100, 400, 1500],\n",
    "    'Views': [10000000, 300000, 5000000, 7500000]\n",
    "})\n",
    "\n",
    "# Create a Dash app\n",
    "app = dash.Dash(__name__)\n",
    "\n",
    "# Define the layout of the app\n",
    "app.layout = html.Div([\n",
    "    html.H1(\"Social Media Data Dashboard\"),\n",
    "    dcc.Graph(id='bar-chart'),\n",
    "])\n",
    "\n",
    "# Define a callback to update the bar chart\n",
    "@app.callback(\n",
    "    Output('bar-chart', 'figure'),\n",
    "    Input('bar-chart', 'relayoutData')\n",
    ")\n",
    "def update_bar_chart(_):\n",
    "    fig = px.bar(data, x='Country',\n",
    "                 y=['Subscribers', 'Videos', 'Likes', 'Comments', 'Views'],\n",
    "                 title='Social Media Data for All Countries',\n",
    "                 labels={'variable': 'Metrics', 'value': 'Counts'},\n",
    "                 template='plotly_dark')\n",
    "\n",
    "    return fig\n",
    "\n",
    "# Run the app\n",
    "if __name__ == '__main__':\n",
    "    app.run_server(debug=True)\n"
   ]
  },
  {
   "cell_type": "code",
   "execution_count": null,
   "id": "b34e8e19-a27b-4b68-8b6b-1c05c5e09e42",
   "metadata": {},
   "outputs": [],
   "source": []
  }
 ],
 "metadata": {
  "kernelspec": {
   "display_name": "Python 3 (ipykernel)",
   "language": "python",
   "name": "python3"
  },
  "language_info": {
   "codemirror_mode": {
    "name": "ipython",
    "version": 3
   },
   "file_extension": ".py",
   "mimetype": "text/x-python",
   "name": "python",
   "nbconvert_exporter": "python",
   "pygments_lexer": "ipython3",
   "version": "3.8.0"
  }
 },
 "nbformat": 4,
 "nbformat_minor": 5
}
