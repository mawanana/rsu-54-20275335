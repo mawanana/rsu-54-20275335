{
 "cells": [
  {
   "cell_type": "code",
   "execution_count": 6,
   "id": "41c09055-2da8-4430-8f6f-27c6c05bc571",
   "metadata": {},
   "outputs": [
    {
     "data": {
      "text/html": [
       "\n",
       "        <iframe\n",
       "            width=\"100%\"\n",
       "            height=\"650\"\n",
       "            src=\"http://127.0.0.1:8050/\"\n",
       "            frameborder=\"0\"\n",
       "            allowfullscreen\n",
       "            \n",
       "        ></iframe>\n",
       "        "
      ],
      "text/plain": [
       "<IPython.lib.display.IFrame at 0x7fddf475dfa0>"
      ]
     },
     "metadata": {},
     "output_type": "display_data"
    }
   ],
   "source": [
    "import dash\n",
    "import dash_core_components as dcc\n",
    "import dash_html_components as html\n",
    "from dash.dependencies import Input, Output\n",
    "import plotly.graph_objs as go\n",
    "import pandas as pd\n",
    "\n",
    "# Sample data for India, Sri Lanka, Canada, and South Africa\n",
    "data = pd.DataFrame({\n",
    "    'Country': ['India', 'Sri Lanka', 'Canada', 'South Africa'],\n",
    "    'Subscribers': [1000000, 250000, 500000, 750000],\n",
    "    'Videos': [500, 300, 600, 400],\n",
    "    'Likes': [50000, 3000, 6000, 40000],\n",
    "    'Comments': [2000, 100, 400, 1500],\n",
    "    'Views': [10000000, 300000, 5000000, 7500000]\n",
    "})\n",
    "\n",
    "# Calculate the percentage values\n",
    "for col in ['Subscribers', 'Videos', 'Likes', 'Comments', 'Views']:\n",
    "    data[f'{col} (%)'] = (data[col] / data[col].sum()) * 100\n",
    "\n",
    "# Create a Dash app\n",
    "app = dash.Dash(__name__)\n",
    "\n",
    "# Define the layout of the app\n",
    "app.layout = html.Div([\n",
    "    html.H1(\"Social Media Data Dashboard (Percentage)\"),\n",
    "    dcc.Graph(id='multi-bar-charts'),\n",
    "])\n",
    "\n",
    "# Define a callback to update the multi-bar charts\n",
    "@app.callback(\n",
    "    Output('multi-bar-charts', 'figure'),\n",
    "    Input('multi-bar-charts', 'relayoutData')\n",
    ")\n",
    "def update_multi_bar_charts(_):\n",
    "    traces = []\n",
    "    \n",
    "    for col in ['Subscribers (%)', 'Videos (%)', 'Likes (%)', 'Comments (%)', 'Views (%)']:\n",
    "        trace = go.Bar(\n",
    "            x=data['Country'],\n",
    "            y=data[col],\n",
    "            name=col,\n",
    "        )\n",
    "        traces.append(trace)\n",
    "\n",
    "    layout = go.Layout(\n",
    "        barmode='group',\n",
    "        title='Social Media Data for All Countries (Percentage)',\n",
    "        xaxis={'title': 'Country'},\n",
    "        yaxis={'title': 'Percentage (%)'},\n",
    "        template='plotly_dark'\n",
    "    )\n",
    "    \n",
    "    fig = go.Figure(data=traces, layout=layout)\n",
    "\n",
    "    return fig\n",
    "\n",
    "# Run the app\n",
    "if __name__ == '__main__':\n",
    "    app.run_server(debug=True)\n"
   ]
  },
  {
   "cell_type": "code",
   "execution_count": null,
   "id": "75ba7854-3dfe-43cc-a3f6-1e5b683a42a6",
   "metadata": {},
   "outputs": [],
   "source": []
  },
  {
   "cell_type": "code",
   "execution_count": null,
   "id": "1aaa0dee-eea4-4710-84e1-dae268abc103",
   "metadata": {},
   "outputs": [],
   "source": []
  }
 ],
 "metadata": {
  "kernelspec": {
   "display_name": "Python 3 (ipykernel)",
   "language": "python",
   "name": "python3"
  },
  "language_info": {
   "codemirror_mode": {
    "name": "ipython",
    "version": 3
   },
   "file_extension": ".py",
   "mimetype": "text/x-python",
   "name": "python",
   "nbconvert_exporter": "python",
   "pygments_lexer": "ipython3",
   "version": "3.8.0"
  }
 },
 "nbformat": 4,
 "nbformat_minor": 5
}
