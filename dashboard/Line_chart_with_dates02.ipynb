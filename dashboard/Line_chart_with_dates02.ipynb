{
 "cells": [
  {
   "cell_type": "code",
   "execution_count": 1,
   "id": "e302bf0c-ec3e-472a-9940-0a5f7dca7de7",
   "metadata": {},
   "outputs": [
    {
     "name": "stderr",
     "output_type": "stream",
     "text": [
      "/var/folders/y3/k251xs_s3c3dgw01ys3t1_wm0000gq/T/ipykernel_42607/2577360099.py:2: UserWarning: \n",
      "The dash_core_components package is deprecated. Please replace\n",
      "`import dash_core_components as dcc` with `from dash import dcc`\n",
      "  import dash_core_components as dcc\n",
      "/var/folders/y3/k251xs_s3c3dgw01ys3t1_wm0000gq/T/ipykernel_42607/2577360099.py:3: UserWarning: \n",
      "The dash_html_components package is deprecated. Please replace\n",
      "`import dash_html_components as html` with `from dash import html`\n",
      "  import dash_html_components as html\n"
     ]
    },
    {
     "data": {
      "text/html": [
       "\n",
       "        <iframe\n",
       "            width=\"100%\"\n",
       "            height=\"650\"\n",
       "            src=\"http://127.0.0.1:8050/\"\n",
       "            frameborder=\"0\"\n",
       "            allowfullscreen\n",
       "            \n",
       "        ></iframe>\n",
       "        "
      ],
      "text/plain": [
       "<IPython.lib.display.IFrame at 0x7f81c8bc8ee0>"
      ]
     },
     "metadata": {},
     "output_type": "display_data"
    }
   ],
   "source": [
    "import dash\n",
    "import dash_core_components as dcc\n",
    "import dash_html_components as html\n",
    "from dash.dependencies import Input, Output\n",
    "import plotly.express as px\n",
    "import pandas as pd\n",
    "\n",
    "# Sample data (replace with your own datasets for Reddit and Source2)\n",
    "data_reddit = pd.DataFrame({\n",
    "    'Upload Time': pd.to_datetime(['2023-10-01 08:00:00', '2023-10-01 10:00:00', '2023-10-01 12:00:00', '2023-10-01 14:00:00', '2023-10-01 16:00:00']),\n",
    "    'Views': [100, 150, 200, 250, 300],\n",
    "    'Comments': [10, 15, 20, 25, 30]\n",
    "})\n",
    "\n",
    "data_source2 = pd.DataFrame({\n",
    "    'Upload Time': pd.to_datetime(['2023-10-01 08:00:00', '2023-10-01 10:00:00', '2023-10-01 12:00:00', '2023-10-01 14:00:00', '2023-10-01 16:00:00']),\n",
    "    'Views': [80, 120, 160, 200, 240],\n",
    "    'Comments': [8, 12, 16, 20, 24]\n",
    "})\n",
    "\n",
    "app = dash.Dash(__name__)\n",
    "\n",
    "app.layout = html.Div([\n",
    "    dcc.Tabs(id='tabs', value='Reddit', children=[\n",
    "        dcc.Tab(label='Reddit', value='Reddit'),\n",
    "        dcc.Tab(label='Source2', value='Source2'),\n",
    "    ]),\n",
    "    html.Div(id='tabs-content'),\n",
    "])\n",
    "\n",
    "@app.callback(\n",
    "    Output('tabs-content', 'children'),\n",
    "    [Input('tabs', 'value')]\n",
    ")\n",
    "def render_content(tab):\n",
    "    if tab == 'Reddit':\n",
    "        data = data_reddit\n",
    "    elif tab == 'Source2':\n",
    "        data = data_source2\n",
    "\n",
    "    fig = px.line(data, x='Upload Time', y=['Views', 'Comments'], title=f'{tab} Stats')\n",
    "    fig.update_layout(\n",
    "        xaxis_title='Upload Time',\n",
    "        yaxis_title='Count',\n",
    "    )\n",
    "\n",
    "    return dcc.Graph(figure=fig)\n",
    "\n",
    "if __name__ == '__main__':\n",
    "    app.run_server(debug=True)\n"
   ]
  },
  {
   "cell_type": "code",
   "execution_count": null,
   "id": "c51c0818-5d9b-48c4-95c1-5694f8e21415",
   "metadata": {},
   "outputs": [],
   "source": []
  }
 ],
 "metadata": {
  "kernelspec": {
   "display_name": "Python 3 (ipykernel)",
   "language": "python",
   "name": "python3"
  },
  "language_info": {
   "codemirror_mode": {
    "name": "ipython",
    "version": 3
   },
   "file_extension": ".py",
   "mimetype": "text/x-python",
   "name": "python",
   "nbconvert_exporter": "python",
   "pygments_lexer": "ipython3",
   "version": "3.8.0"
  }
 },
 "nbformat": 4,
 "nbformat_minor": 5
}
