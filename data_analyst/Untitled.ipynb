{
 "cells": [
  {
   "cell_type": "code",
   "execution_count": 1,
   "id": "39df87c6-842f-4c05-a149-b620659d8ae8",
   "metadata": {},
   "outputs": [
    {
     "name": "stdout",
     "output_type": "stream",
     "text": [
      "30\n",
      "30\n",
      "30\n",
      "0\n"
     ]
    }
   ],
   "source": [
    "def convert_margin_to_numeric(margin, team_1_score, team_2_score):\n",
    "    if margin == '-':\n",
    "        return 0  # Handle cases where there is no winning margin\n",
    "    elif 'wickets' in margin:\n",
    "        wickets_difference = abs(team_1_score - team_2_score)\n",
    "        return wickets_difference\n",
    "    elif 'runs' in margin:\n",
    "        runs_difference = abs(team_1_score - team_2_score)\n",
    "        return runs_difference\n",
    "    else:\n",
    "        return None  # Return None for any other cases (handle as needed)\n",
    "\n",
    "# Example usage:\n",
    "team_1_score = 150\n",
    "team_2_score = 120\n",
    "print(convert_margin_to_numeric('5 wickets', team_1_score, team_2_score))  # Output: 30\n",
    "print(convert_margin_to_numeric('100 runs', team_1_score, team_2_score))   # Output: 30\n",
    "print(convert_margin_to_numeric('44 runs', team_1_score, team_2_score))    # Output: 30\n",
    "print(convert_margin_to_numeric('-', team_1_score, team_2_score))           # Output: 0\n"
   ]
  },
  {
   "cell_type": "code",
   "execution_count": null,
   "id": "54c888b9-9f24-4ef7-9294-d96f2f05ce5b",
   "metadata": {},
   "outputs": [],
   "source": []
  }
 ],
 "metadata": {
  "kernelspec": {
   "display_name": "Python 3 (ipykernel)",
   "language": "python",
   "name": "python3"
  },
  "language_info": {
   "codemirror_mode": {
    "name": "ipython",
    "version": 3
   },
   "file_extension": ".py",
   "mimetype": "text/x-python",
   "name": "python",
   "nbconvert_exporter": "python",
   "pygments_lexer": "ipython3",
   "version": "3.8.0"
  }
 },
 "nbformat": 4,
 "nbformat_minor": 5
}
