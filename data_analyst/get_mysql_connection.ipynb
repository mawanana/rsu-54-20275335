{
 "cells": [
  {
   "cell_type": "code",
   "execution_count": 17,
   "id": "ac5f66bc-83a7-4d20-af48-6bf25bc93a13",
   "metadata": {},
   "outputs": [
    {
     "name": "stdout",
     "output_type": "stream",
     "text": [
      "Connected to MySQL database\n"
     ]
    }
   ],
   "source": [
    "import mysql.connector\n",
    "import pandas as pd\n",
    "\n",
    "team = 'Sri Lanka'\n",
    "opposite_team = 'New Zealand'\n",
    "filter_field = 'runs'\n",
    "\n",
    "# Define connection parameters\n",
    "config = {\n",
    "    'user': 'airflow',\n",
    "    'password': 'airflow',\n",
    "    'host': 'localhost',  # or your MySQL container IP address\n",
    "    'port': '3306',        # or the port you've mapped to your MySQL container\n",
    "    'database': 'cricket_info',\n",
    "    'raise_on_warnings': True\n",
    "}\n",
    "\n",
    "# Establish connection\n",
    "try:\n",
    "    connection = mysql.connector.connect(**config)\n",
    "    print(\"Connected to MySQL database\")\n",
    "except mysql.connector.Error as err:\n",
    "    print(f\"Error: {err}\")"
   ]
  },
  {
   "cell_type": "code",
   "execution_count": null,
   "id": "4b6ff0c4-fcbe-46b4-8f8c-e3c1dcd30de7",
   "metadata": {},
   "outputs": [],
   "source": []
  }
 ],
 "metadata": {
  "kernelspec": {
   "display_name": "Python 3 (ipykernel)",
   "language": "python",
   "name": "python3"
  },
  "language_info": {
   "codemirror_mode": {
    "name": "ipython",
    "version": 3
   },
   "file_extension": ".py",
   "mimetype": "text/x-python",
   "name": "python",
   "nbconvert_exporter": "python",
   "pygments_lexer": "ipython3",
   "version": "3.8.0"
  }
 },
 "nbformat": 4,
 "nbformat_minor": 5
}
