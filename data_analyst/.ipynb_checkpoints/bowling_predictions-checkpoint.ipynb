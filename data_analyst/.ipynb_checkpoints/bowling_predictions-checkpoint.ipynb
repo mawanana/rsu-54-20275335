{
 "cells": [
  {
   "cell_type": "code",
   "execution_count": 1,
   "id": "d1476cfc-9173-435c-8e39-11b95d25cfa0",
   "metadata": {},
   "outputs": [
    {
     "name": "stdout",
     "output_type": "stream",
     "text": [
      "Connected to MySQL database\n",
      "Columns for player Tim Southee: Index(['match_id', 'team', 'opposite_team', 'player', 'overs', 'runs', 'date'], dtype='object')\n",
      "Columns for player Ish Sodhi: Index(['match_id', 'team', 'opposite_team', 'player', 'overs', 'runs', 'date'], dtype='object')\n",
      "       match_id         team opposite_team       player     overs  runs  \\\n",
      "3    T20I # 151  New Zealand     Sri Lanka  Tim Southee  4.000000  21.0   \n",
      "6    T20I # 180  New Zealand     Sri Lanka  Tim Southee  3.000000  10.0   \n",
      "5    T20I # 181  New Zealand     Sri Lanka  Tim Southee  1.000000  15.0   \n",
      "4    T20I # 275  New Zealand     Sri Lanka  Tim Southee  4.000000  44.0   \n",
      "11   T20I # 474  New Zealand     Sri Lanka    Ish Sodhi  4.000000  33.0   \n",
      "8    T20I # 718  New Zealand     Sri Lanka  Tim Southee  2.000000  21.0   \n",
      "16   T20I # 718  New Zealand     Sri Lanka    Ish Sodhi  3.833333  30.0   \n",
      "7    T20I # 878  New Zealand     Sri Lanka  Tim Southee  4.000000  20.0   \n",
      "13   T20I # 878  New Zealand     Sri Lanka    Ish Sodhi  3.000000  23.0   \n",
      "10   T20I # 879  New Zealand     Sri Lanka    Ish Sodhi  4.000000  34.0   \n",
      "1    T20I # 879  New Zealand     Sri Lanka  Tim Southee  4.000000  18.0   \n",
      "2    T20I # 880  New Zealand     Sri Lanka  Tim Southee  4.000000  16.0   \n",
      "9   T20I # 1850  New Zealand     Sri Lanka    Ish Sodhi  3.333333  21.0   \n",
      "0   T20I # 1850  New Zealand     Sri Lanka  Tim Southee  4.000000  12.0   \n",
      "14  T20I # 2039  New Zealand     Sri Lanka    Ish Sodhi  4.000000  33.0   \n",
      "15  T20I # 2040  New Zealand     Sri Lanka    Ish Sodhi  3.000000  17.0   \n",
      "12  T20I # 2041  New Zealand     Sri Lanka    Ish Sodhi  4.000000  30.0   \n",
      "\n",
      "         date      ratio  \n",
      "3  2010-04-30   5.250000  \n",
      "6  2010-05-22   3.333333  \n",
      "5  2010-05-23  15.000000  \n",
      "4  2012-09-27  11.000000  \n",
      "11 2016-01-07   8.250000  \n",
      "8  2019-01-11  10.500000  \n",
      "16 2019-01-11   7.826087  \n",
      "7  2019-09-01   5.000000  \n",
      "13 2019-09-01   7.666667  \n",
      "10 2019-09-03   8.500000  \n",
      "1  2019-09-03   4.500000  \n",
      "2  2019-09-06   4.000000  \n",
      "9  2022-10-29   6.300000  \n",
      "0  2022-10-29   3.000000  \n",
      "14 2023-04-02   8.250000  \n",
      "15 2023-04-05   5.666667  \n",
      "12 2023-04-08   7.500000  \n"
     ]
    }
   ],
   "source": [
    "import mysql_connection\n",
    "import pandas as pd\n",
    "\n",
    "# Function to convert string representation of overs to decimal\n",
    "def convert_to_decimal(overs_str):\n",
    "    if '.' in overs_str:\n",
    "        overs, balls = overs_str.split('.')\n",
    "        decimal_overs = int(overs) + int(balls) / 6\n",
    "    else:\n",
    "        decimal_overs = int(overs_str)\n",
    "    return decimal_overs\n",
    "\n",
    "def fetch_data(team, opposite_team, players, filter_field):\n",
    "    # Get MySQL connection\n",
    "    connection = mysql_connection.get_mysql_connection()\n",
    "\n",
    "    if connection:\n",
    "        # Initialize an empty list to store DataFrames for each player\n",
    "        dfs = []\n",
    "\n",
    "        # Loop through each player\n",
    "        for player in players:\n",
    "            if opposite_team == 'All':\n",
    "                # SQL query to select specific fields from the table for the given player\n",
    "                sql_query = f\"\"\"\n",
    "                SELECT DISTINCT b.match_id, b.team, b.opposite_team, b.player, b.overs, b.{filter_field}, m.date\n",
    "                FROM cricket_info.bowling AS b\n",
    "                JOIN cricket_info.master AS m ON b.match_id = m.match_id\n",
    "                WHERE b.team = %s AND b.player LIKE %s;\n",
    "                \"\"\"\n",
    "                # Execute SQL query with parameters\n",
    "                cursor = connection.cursor()\n",
    "                cursor.execute(sql_query, (team, f'%{player}%'))\n",
    "            \n",
    "            else:\n",
    "                # SQL query to select specific fields from the table for the given player\n",
    "                sql_query = f\"\"\"\n",
    "                SELECT DISTINCT b.match_id, b.team, b.opposite_team, b.player, b.overs, b.{filter_field}, m.date\n",
    "                FROM cricket_info.bowling AS b\n",
    "                JOIN cricket_info.master AS m ON b.match_id = m.match_id\n",
    "                WHERE b.team = %s AND b.opposite_team = %s AND b.player LIKE %s;\n",
    "                \"\"\"\n",
    "                # Execute SQL query with parameters\n",
    "                cursor = connection.cursor()\n",
    "                cursor.execute(sql_query, (team, opposite_team, f'%{player}%'))\n",
    "\n",
    "            # Fetch all rows from the result set\n",
    "            rows = cursor.fetchall()\n",
    "\n",
    "            # Create DataFrame from fetched rows\n",
    "            df = pd.DataFrame(rows, columns=['match_id', 'team', 'opposite_team', 'player', 'overs', filter_field, 'date'])\n",
    "\n",
    "            # Print the column names\n",
    "            print(f\"Columns for player {player}: {df.columns}\")\n",
    "\n",
    "            # Convert 'runs' field to float\n",
    "            df[filter_field] = df[filter_field].astype(float)\n",
    "\n",
    "            # Apply the function to 'Overs' column\n",
    "            df['overs'] = df['overs'].apply(convert_to_decimal)\n",
    "\n",
    "            # Calculate total overs bowled in each match\n",
    "            total_overs_per_match = df.groupby('match_id')['overs'].sum()\n",
    "\n",
    "            # Calculate ratio of filter field to total overs for each match\n",
    "            df['ratio'] = df[filter_field] / total_overs_per_match[df['match_id']].values\n",
    "\n",
    "            # Append the DataFrame for the current player to the list\n",
    "            dfs.append(df)\n",
    "\n",
    "            # Close cursor\n",
    "            cursor.close()\n",
    "\n",
    "        # Close connection\n",
    "        connection.close()\n",
    "        \n",
    "        return dfs\n",
    "    else:\n",
    "        print(\"Connection to the database failed.\")\n",
    "        return None\n",
    "\n",
    "\n",
    "if __name__ == \"__main__\":\n",
    "    team = 'New Zealand'\n",
    "    opposite_team = 'Sri Lanka'\n",
    "    # opposite_team = 'All'\n",
    "    players = ['Tim Southee','Ish Sodhi']\n",
    "    # players = ['Wanindu Hasaranga', 'Maheesh Theekshana','Tillakaratne Dilshan','Angelo Mathews']\n",
    "    filter_field = 'runs'\n",
    "\n",
    "    # Fetch data for multiple players\n",
    "    dfs = fetch_data(team, opposite_team, players, filter_field)\n",
    "\n",
    "    # Merge all players DataFrames into master_df\n",
    "    master_df = pd.concat(dfs, ignore_index=True)\n",
    "\n",
    "    master_df['date'] = pd.to_datetime(master_df['date'])\n",
    "    \n",
    "    # Sort DataFrame by 'date'\n",
    "    master_df = master_df.sort_values(by='date', ascending=True)\n",
    "\n",
    "    # # Plot data for multiple players\n",
    "    # plot_data(master_df, players)\n",
    "\n",
    "print(master_df)"
   ]
  },
  {
   "cell_type": "code",
   "execution_count": 61,
   "id": "3eed7ef5-9cb3-4676-a5bc-f67ffbd0e950",
   "metadata": {},
   "outputs": [
    {
     "name": "stdout",
     "output_type": "stream",
     "text": [
      "Mean Squared Error: 8.217301096052207e-31\n",
      "linear Regression Predicted Ratio: 8.217301096052207e-31\n"
     ]
    }
   ],
   "source": [
    "from bowling_linear_regression_model import predict_player_performance\n",
    "\n",
    "# Assuming 'master_df' is already loaded\n",
    "player_name = 'Tim Southee'\n",
    "mse = predict_player_performance(player_name, master_df)\n",
    "print('linear Regression Predicted Ratio:', mse)\n"
   ]
  },
  {
   "cell_type": "code",
   "execution_count": 68,
   "id": "d59f3b47-9455-430c-b754-c9448ef7f0c4",
   "metadata": {},
   "outputs": [
    {
     "name": "stdout",
     "output_type": "stream",
     "text": [
      "Mean Squared Error: 0.012215273502139426\n",
      "Random ForestPredicted Ratio: 0.012215273502139426\n"
     ]
    }
   ],
   "source": [
    "from bowling_random_forest_model import predict_player_performance\n",
    "\n",
    "# Assuming 'master_df' is already loaded\n",
    "player_name = 'Tim Southee'\n",
    "mse = predict_player_performance(player_name, master_df)\n",
    "print('Random ForestPredicted Ratio:', mse)\n"
   ]
  },
  {
   "cell_type": "code",
   "execution_count": 69,
   "id": "e1e47e53-4b61-4750-a7ab-3040e3151f75",
   "metadata": {},
   "outputs": [
    {
     "name": "stdout",
     "output_type": "stream",
     "text": [
      "Mean Squared Error: 0.002759532336682627\n",
      "SVR Predicted Ratio: 0.002759532336682627\n"
     ]
    }
   ],
   "source": [
    "from bowling_SVR_model import predict_player_performance\n",
    "\n",
    "# Assuming 'master_df' is already loaded\n",
    "player_name = 'Tim Southee'\n",
    "mse = predict_player_performance(player_name, master_df)\n",
    "print('SVR Predicted Ratio:', mse)\n"
   ]
  },
  {
   "cell_type": "code",
   "execution_count": 72,
   "id": "02bb698d-1709-4fdc-82d5-a92faab02924",
   "metadata": {},
   "outputs": [
    {
     "name": "stdout",
     "output_type": "stream",
     "text": [
      "Linear Regression Mean Squared Error: 3.2152154138008138\n",
      "Random Forest Regression Mean Squared Error: 1.392546339385108\n"
     ]
    }
   ],
   "source": [
    "import pandas as pd\n",
    "from sklearn.model_selection import train_test_split\n",
    "from sklearn.linear_model import LinearRegression\n",
    "from sklearn.ensemble import RandomForestRegressor\n",
    "from sklearn.metrics import mean_squared_error\n",
    "\n",
    "# Assuming you have the 'master_df' DataFrame containing the data\n",
    "# You've already provided the data in the correct format\n",
    "\n",
    "# Splitting the data into features (X) and target variable (y)\n",
    "X = master_df[['overs', 'runs']]  # Features\n",
    "y = master_df['ratio']             # Target\n",
    "\n",
    "# Splitting the data into training and testing sets\n",
    "X_train, X_test, y_train, y_test = train_test_split(X, y, test_size=0.2, random_state=42)\n",
    "\n",
    "# Initialize and train the linear regression model\n",
    "linear_model = LinearRegression()\n",
    "linear_model.fit(X_train, y_train)\n",
    "\n",
    "# Make predictions using the linear regression model\n",
    "linear_predictions = linear_model.predict(X_test)\n",
    "\n",
    "# Evaluate the linear regression model\n",
    "linear_mse = mean_squared_error(y_test, linear_predictions)\n",
    "print('Linear Regression Mean Squared Error:', linear_mse)\n",
    "\n",
    "# Initialize and train the Random Forest regression model\n",
    "rf_model = RandomForestRegressor(random_state=42)\n",
    "rf_model.fit(X_train, y_train)\n",
    "\n",
    "# Make predictions using the Random Forest regression model\n",
    "rf_predictions = rf_model.predict(X_test)\n",
    "\n",
    "# Evaluate the Random Forest regression model\n",
    "rf_mse = mean_squared_error(y_test, rf_predictions)\n",
    "print('Random Forest Regression Mean Squared Error:', rf_mse)\n"
   ]
  },
  {
   "cell_type": "code",
   "execution_count": null,
   "id": "b6f49c15-2e09-43b4-8b62-8e18a188b9b6",
   "metadata": {},
   "outputs": [],
   "source": []
  }
 ],
 "metadata": {
  "kernelspec": {
   "display_name": "Python 3 (ipykernel)",
   "language": "python",
   "name": "python3"
  },
  "language_info": {
   "codemirror_mode": {
    "name": "ipython",
    "version": 3
   },
   "file_extension": ".py",
   "mimetype": "text/x-python",
   "name": "python",
   "nbconvert_exporter": "python",
   "pygments_lexer": "ipython3",
   "version": "3.8.0"
  }
 },
 "nbformat": 4,
 "nbformat_minor": 5
}
