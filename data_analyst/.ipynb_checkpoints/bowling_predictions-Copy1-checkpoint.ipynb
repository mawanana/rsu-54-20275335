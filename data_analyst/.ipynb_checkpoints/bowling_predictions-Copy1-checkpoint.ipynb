{
 "cells": [
  {
   "cell_type": "code",
   "execution_count": 60,
   "id": "d1476cfc-9173-435c-8e39-11b95d25cfa0",
   "metadata": {},
   "outputs": [
    {
     "name": "stdout",
     "output_type": "stream",
     "text": [
      "Connected to MySQL database\n",
      "Columns for player Tim Southee: Index(['match_id', 'team', 'opposite_team', 'player', 'overs', 'runs', 'date'], dtype='object')\n",
      "Columns for player Ish Sodhi: Index(['match_id', 'team', 'opposite_team', 'player', 'overs', 'runs', 'date'], dtype='object')\n",
      "        match_id         team opposite_team       player     overs  runs  \\\n",
      "35     T20I # 53  New Zealand       England  Tim Southee  4.000000  38.0   \n",
      "80     T20I # 54  New Zealand       England  Tim Southee  4.000000  22.0   \n",
      "77     T20I # 78  New Zealand   West Indies  Tim Southee  4.000000  39.0   \n",
      "37     T20I # 79  New Zealand   West Indies  Tim Southee  4.000000  44.0   \n",
      "79     T20I # 83  New Zealand     Australia  Tim Southee  4.000000  31.0   \n",
      "..           ...          ...           ...          ...       ...   ...   \n",
      "113  T20I # 2438  New Zealand      Pakistan  Tim Southee  4.000000  19.0   \n",
      "220  T20I # 2438  New Zealand      Pakistan    Ish Sodhi  4.000000  22.0   \n",
      "1    T20I # 2481  New Zealand     Australia  Tim Southee  4.000000  52.0   \n",
      "120  T20I # 2481  New Zealand     Australia    Ish Sodhi  4.000000  42.0   \n",
      "157  T20I # 2484  New Zealand     Australia    Ish Sodhi  1.666667  22.0   \n",
      "\n",
      "          date  ratio  \n",
      "35  2008-02-05   9.50  \n",
      "80  2008-02-07   5.50  \n",
      "77  2008-12-26   9.75  \n",
      "37  2008-12-28  11.00  \n",
      "79  2009-02-15   7.75  \n",
      "..         ...    ...  \n",
      "113 2024-01-21   4.75  \n",
      "220 2024-01-21   5.50  \n",
      "1   2024-02-21  13.00  \n",
      "120 2024-02-21  10.50  \n",
      "157 2024-02-25  13.20  \n",
      "\n",
      "[223 rows x 8 columns]\n"
     ]
    }
   ],
   "source": [
    "import mysql_connection\n",
    "import pandas as pd\n",
    "\n",
    "# Function to convert string representation of overs to decimal\n",
    "def convert_to_decimal(overs_str):\n",
    "    if '.' in overs_str:\n",
    "        overs, balls = overs_str.split('.')\n",
    "        decimal_overs = int(overs) + int(balls) / 6\n",
    "    else:\n",
    "        decimal_overs = int(overs_str)\n",
    "    return decimal_overs\n",
    "\n",
    "def fetch_data(team, opposite_team, players, filter_field):\n",
    "    # Get MySQL connection\n",
    "    connection = mysql_connection.get_mysql_connection()\n",
    "\n",
    "    if connection:\n",
    "        # Initialize an empty list to store DataFrames for each player\n",
    "        dfs = []\n",
    "\n",
    "        # Loop through each player\n",
    "        for player in players:\n",
    "            if opposite_team == 'All':\n",
    "                # SQL query to select specific fields from the table for the given player\n",
    "                sql_query = f\"\"\"\n",
    "                SELECT DISTINCT b.match_id, b.team, b.opposite_team, b.player, b.overs, b.{filter_field}, m.date\n",
    "                FROM cricket_info.bowling AS b\n",
    "                JOIN cricket_info.master AS m ON b.match_id = m.match_id\n",
    "                WHERE b.team = %s AND b.player LIKE %s;\n",
    "                \"\"\"\n",
    "                # Execute SQL query with parameters\n",
    "                cursor = connection.cursor()\n",
    "                cursor.execute(sql_query, (team, f'%{player}%'))\n",
    "            \n",
    "            else:\n",
    "                # SQL query to select specific fields from the table for the given player\n",
    "                sql_query = f\"\"\"\n",
    "                SELECT DISTINCT b.match_id, b.team, b.opposite_team, b.player, b.overs, b.{filter_field}, m.date\n",
    "                FROM cricket_info.bowling AS b\n",
    "                JOIN cricket_info.master AS m ON b.match_id = m.match_id\n",
    "                WHERE b.team = %s AND b.opposite_team = %s AND b.player LIKE %s;\n",
    "                \"\"\"\n",
    "                # Execute SQL query with parameters\n",
    "                cursor = connection.cursor()\n",
    "                cursor.execute(sql_query, (team, opposite_team, f'%{player}%'))\n",
    "\n",
    "            # Fetch all rows from the result set\n",
    "            rows = cursor.fetchall()\n",
    "\n",
    "            # Create DataFrame from fetched rows\n",
    "            df = pd.DataFrame(rows, columns=['match_id', 'team', 'opposite_team', 'player', 'overs', filter_field, 'date'])\n",
    "\n",
    "            # Print the column names\n",
    "            print(f\"Columns for player {player}: {df.columns}\")\n",
    "\n",
    "            # Convert 'runs' field to float\n",
    "            df[filter_field] = df[filter_field].astype(float)\n",
    "\n",
    "            # Apply the function to 'Overs' column\n",
    "            df['overs'] = df['overs'].apply(convert_to_decimal)\n",
    "\n",
    "            # Calculate total overs bowled in each match\n",
    "            total_overs_per_match = df.groupby('match_id')['overs'].sum()\n",
    "\n",
    "            # Calculate ratio of filter field to total overs for each match\n",
    "            df['ratio'] = df[filter_field] / total_overs_per_match[df['match_id']].values\n",
    "\n",
    "            # Append the DataFrame for the current player to the list\n",
    "            dfs.append(df)\n",
    "\n",
    "            # Close cursor\n",
    "            cursor.close()\n",
    "\n",
    "        # Close connection\n",
    "        connection.close()\n",
    "        \n",
    "        return dfs\n",
    "    else:\n",
    "        print(\"Connection to the database failed.\")\n",
    "        return None\n",
    "\n",
    "\n",
    "if __name__ == \"__main__\":\n",
    "    team = 'New Zealand'\n",
    "    opposite_team = 'Sri Lanka'\n",
    "    opposite_team = 'All'\n",
    "    players = ['Tim Southee','Ish Sodhi']\n",
    "    # players = ['Wanindu Hasaranga', 'Maheesh Theekshana','Tillakaratne Dilshan','Angelo Mathews']\n",
    "    filter_field = 'runs'\n",
    "\n",
    "    # Fetch data for multiple players\n",
    "    dfs = fetch_data(team, opposite_team, players, filter_field)\n",
    "\n",
    "    # Merge all players DataFrames into master_df\n",
    "    master_df = pd.concat(dfs, ignore_index=True)\n",
    "\n",
    "    master_df['date'] = pd.to_datetime(master_df['date'])\n",
    "    \n",
    "    # Sort DataFrame by 'date'\n",
    "    master_df = master_df.sort_values(by='date', ascending=True)\n",
    "\n",
    "    # # Plot data for multiple players\n",
    "    # plot_data(master_df, players)\n",
    "\n",
    "print(master_df)"
   ]
  },
  {
   "cell_type": "code",
   "execution_count": 61,
   "id": "3eed7ef5-9cb3-4676-a5bc-f67ffbd0e950",
   "metadata": {},
   "outputs": [
    {
     "name": "stdout",
     "output_type": "stream",
     "text": [
      "Mean Squared Error: 8.217301096052207e-31\n",
      "linear Regression Predicted Ratio: 8.217301096052207e-31\n"
     ]
    }
   ],
   "source": [
    "from bowling_linear_regression_model import predict_player_performance\n",
    "\n",
    "# Assuming 'master_df' is already loaded\n",
    "player_name = 'Tim Southee'\n",
    "mse = predict_player_performance(player_name, master_df)\n",
    "print('linear Regression Predicted Ratio:', mse)\n"
   ]
  },
  {
   "cell_type": "code",
   "execution_count": 68,
   "id": "d59f3b47-9455-430c-b754-c9448ef7f0c4",
   "metadata": {},
   "outputs": [
    {
     "name": "stdout",
     "output_type": "stream",
     "text": [
      "Mean Squared Error: 0.012215273502139426\n",
      "Random ForestPredicted Ratio: 0.012215273502139426\n"
     ]
    }
   ],
   "source": [
    "from bowling_random_forest_model import predict_player_performance\n",
    "\n",
    "# Assuming 'master_df' is already loaded\n",
    "player_name = 'Tim Southee'\n",
    "mse = predict_player_performance(player_name, master_df)\n",
    "print('Random ForestPredicted Ratio:', mse)\n"
   ]
  },
  {
   "cell_type": "code",
   "execution_count": 69,
   "id": "e1e47e53-4b61-4750-a7ab-3040e3151f75",
   "metadata": {},
   "outputs": [
    {
     "name": "stdout",
     "output_type": "stream",
     "text": [
      "Mean Squared Error: 0.002759532336682627\n",
      "SVR Predicted Ratio: 0.002759532336682627\n"
     ]
    }
   ],
   "source": [
    "from bowling_SVR_model import predict_player_performance\n",
    "\n",
    "# Assuming 'master_df' is already loaded\n",
    "player_name = 'Tim Southee'\n",
    "mse = predict_player_performance(player_name, master_df)\n",
    "print('SVR Predicted Ratio:', mse)\n"
   ]
  },
  {
   "cell_type": "code",
   "execution_count": 67,
   "id": "02bb698d-1709-4fdc-82d5-a92faab02924",
   "metadata": {},
   "outputs": [
    {
     "ename": "ValueError",
     "evalue": "Unknown label type: (array([ 2.76923077,  3.        ,  3.33333333,  3.75      ,  4.        ,\n        4.5       ,  5.        ,  5.25      ,  5.5       ,  5.71428571,\n        6.        ,  6.25      ,  6.5       ,  7.        ,  7.25      ,\n        7.5       ,  7.57894737,  7.75      ,  8.        ,  8.33333333,\n        8.4       ,  8.5       ,  8.57142857,  8.72727273,  8.75      ,\n        8.85714286,  9.        ,  9.25      ,  9.5       ,  9.75      ,\n       10.        , 10.5       , 10.75      , 10.8       , 11.        ,\n       11.2173913 , 11.25      , 11.5       , 11.75      , 12.        ,\n       12.25      , 13.        , 15.        , 16.        ]),)",
     "output_type": "error",
     "traceback": [
      "\u001b[0;31m---------------------------------------------------------------------------\u001b[0m",
      "\u001b[0;31mValueError\u001b[0m                                Traceback (most recent call last)",
      "Cell \u001b[0;32mIn[67], line 5\u001b[0m\n\u001b[1;32m      3\u001b[0m \u001b[38;5;66;03m# Assuming 'master_df' is already loaded\u001b[39;00m\n\u001b[1;32m      4\u001b[0m player_name \u001b[38;5;241m=\u001b[39m \u001b[38;5;124m'\u001b[39m\u001b[38;5;124mTim Southee\u001b[39m\u001b[38;5;124m'\u001b[39m\n\u001b[0;32m----> 5\u001b[0m mse \u001b[38;5;241m=\u001b[39m \u001b[43mpredict_player_performance\u001b[49m\u001b[43m(\u001b[49m\u001b[43mplayer_name\u001b[49m\u001b[43m,\u001b[49m\u001b[43m \u001b[49m\u001b[43mmaster_df\u001b[49m\u001b[43m)\u001b[49m\n\u001b[1;32m      6\u001b[0m \u001b[38;5;28mprint\u001b[39m(\u001b[38;5;124m'\u001b[39m\u001b[38;5;124mDecision Trees Predicted Ratio:\u001b[39m\u001b[38;5;124m'\u001b[39m, mse)\n",
      "File \u001b[0;32m~/Documents/MyDocuments/rsu-54-20275335/data_analyst/bowling_decision_trees_model.py:21\u001b[0m, in \u001b[0;36mpredict_player_performance\u001b[0;34m(player_name, master_df)\u001b[0m\n\u001b[1;32m     19\u001b[0m \u001b[38;5;66;03m# Initialize and train the Naive Bayes model\u001b[39;00m\n\u001b[1;32m     20\u001b[0m model \u001b[38;5;241m=\u001b[39m GaussianNB()\n\u001b[0;32m---> 21\u001b[0m \u001b[43mmodel\u001b[49m\u001b[38;5;241;43m.\u001b[39;49m\u001b[43mfit\u001b[49m\u001b[43m(\u001b[49m\u001b[43mX_train\u001b[49m\u001b[43m,\u001b[49m\u001b[43m \u001b[49m\u001b[43my_train\u001b[49m\u001b[43m)\u001b[49m\n\u001b[1;32m     23\u001b[0m \u001b[38;5;66;03m# Make predictions\u001b[39;00m\n\u001b[1;32m     24\u001b[0m predictions \u001b[38;5;241m=\u001b[39m model\u001b[38;5;241m.\u001b[39mpredict(X_test)\n",
      "File \u001b[0;32m~/Documents/MyDocuments/rsu-54-20275335/venv/lib/python3.8/site-packages/sklearn/base.py:1152\u001b[0m, in \u001b[0;36m_fit_context.<locals>.decorator.<locals>.wrapper\u001b[0;34m(estimator, *args, **kwargs)\u001b[0m\n\u001b[1;32m   1145\u001b[0m     estimator\u001b[38;5;241m.\u001b[39m_validate_params()\n\u001b[1;32m   1147\u001b[0m \u001b[38;5;28;01mwith\u001b[39;00m config_context(\n\u001b[1;32m   1148\u001b[0m     skip_parameter_validation\u001b[38;5;241m=\u001b[39m(\n\u001b[1;32m   1149\u001b[0m         prefer_skip_nested_validation \u001b[38;5;129;01mor\u001b[39;00m global_skip_validation\n\u001b[1;32m   1150\u001b[0m     )\n\u001b[1;32m   1151\u001b[0m ):\n\u001b[0;32m-> 1152\u001b[0m     \u001b[38;5;28;01mreturn\u001b[39;00m \u001b[43mfit_method\u001b[49m\u001b[43m(\u001b[49m\u001b[43mestimator\u001b[49m\u001b[43m,\u001b[49m\u001b[43m \u001b[49m\u001b[38;5;241;43m*\u001b[39;49m\u001b[43margs\u001b[49m\u001b[43m,\u001b[49m\u001b[43m \u001b[49m\u001b[38;5;241;43m*\u001b[39;49m\u001b[38;5;241;43m*\u001b[39;49m\u001b[43mkwargs\u001b[49m\u001b[43m)\u001b[49m\n",
      "File \u001b[0;32m~/Documents/MyDocuments/rsu-54-20275335/venv/lib/python3.8/site-packages/sklearn/naive_bayes.py:263\u001b[0m, in \u001b[0;36mGaussianNB.fit\u001b[0;34m(self, X, y, sample_weight)\u001b[0m\n\u001b[1;32m    240\u001b[0m \u001b[38;5;250m\u001b[39m\u001b[38;5;124;03m\"\"\"Fit Gaussian Naive Bayes according to X, y.\u001b[39;00m\n\u001b[1;32m    241\u001b[0m \n\u001b[1;32m    242\u001b[0m \u001b[38;5;124;03mParameters\u001b[39;00m\n\u001b[0;32m   (...)\u001b[0m\n\u001b[1;32m    260\u001b[0m \u001b[38;5;124;03m    Returns the instance itself.\u001b[39;00m\n\u001b[1;32m    261\u001b[0m \u001b[38;5;124;03m\"\"\"\u001b[39;00m\n\u001b[1;32m    262\u001b[0m y \u001b[38;5;241m=\u001b[39m \u001b[38;5;28mself\u001b[39m\u001b[38;5;241m.\u001b[39m_validate_data(y\u001b[38;5;241m=\u001b[39my)\n\u001b[0;32m--> 263\u001b[0m \u001b[38;5;28;01mreturn\u001b[39;00m \u001b[38;5;28;43mself\u001b[39;49m\u001b[38;5;241;43m.\u001b[39;49m\u001b[43m_partial_fit\u001b[49m\u001b[43m(\u001b[49m\n\u001b[1;32m    264\u001b[0m \u001b[43m    \u001b[49m\u001b[43mX\u001b[49m\u001b[43m,\u001b[49m\u001b[43m \u001b[49m\u001b[43my\u001b[49m\u001b[43m,\u001b[49m\u001b[43m \u001b[49m\u001b[43mnp\u001b[49m\u001b[38;5;241;43m.\u001b[39;49m\u001b[43munique\u001b[49m\u001b[43m(\u001b[49m\u001b[43my\u001b[49m\u001b[43m)\u001b[49m\u001b[43m,\u001b[49m\u001b[43m \u001b[49m\u001b[43m_refit\u001b[49m\u001b[38;5;241;43m=\u001b[39;49m\u001b[38;5;28;43;01mTrue\u001b[39;49;00m\u001b[43m,\u001b[49m\u001b[43m \u001b[49m\u001b[43msample_weight\u001b[49m\u001b[38;5;241;43m=\u001b[39;49m\u001b[43msample_weight\u001b[49m\n\u001b[1;32m    265\u001b[0m \u001b[43m\u001b[49m\u001b[43m)\u001b[49m\n",
      "File \u001b[0;32m~/Documents/MyDocuments/rsu-54-20275335/venv/lib/python3.8/site-packages/sklearn/naive_bayes.py:422\u001b[0m, in \u001b[0;36mGaussianNB._partial_fit\u001b[0;34m(self, X, y, classes, _refit, sample_weight)\u001b[0m\n\u001b[1;32m    419\u001b[0m \u001b[38;5;28;01mif\u001b[39;00m _refit:\n\u001b[1;32m    420\u001b[0m     \u001b[38;5;28mself\u001b[39m\u001b[38;5;241m.\u001b[39mclasses_ \u001b[38;5;241m=\u001b[39m \u001b[38;5;28;01mNone\u001b[39;00m\n\u001b[0;32m--> 422\u001b[0m first_call \u001b[38;5;241m=\u001b[39m \u001b[43m_check_partial_fit_first_call\u001b[49m\u001b[43m(\u001b[49m\u001b[38;5;28;43mself\u001b[39;49m\u001b[43m,\u001b[49m\u001b[43m \u001b[49m\u001b[43mclasses\u001b[49m\u001b[43m)\u001b[49m\n\u001b[1;32m    423\u001b[0m X, y \u001b[38;5;241m=\u001b[39m \u001b[38;5;28mself\u001b[39m\u001b[38;5;241m.\u001b[39m_validate_data(X, y, reset\u001b[38;5;241m=\u001b[39mfirst_call)\n\u001b[1;32m    424\u001b[0m \u001b[38;5;28;01mif\u001b[39;00m sample_weight \u001b[38;5;129;01mis\u001b[39;00m \u001b[38;5;129;01mnot\u001b[39;00m \u001b[38;5;28;01mNone\u001b[39;00m:\n",
      "File \u001b[0;32m~/Documents/MyDocuments/rsu-54-20275335/venv/lib/python3.8/site-packages/sklearn/utils/multiclass.py:422\u001b[0m, in \u001b[0;36m_check_partial_fit_first_call\u001b[0;34m(clf, classes)\u001b[0m\n\u001b[1;32m    415\u001b[0m             \u001b[38;5;28;01mraise\u001b[39;00m \u001b[38;5;167;01mValueError\u001b[39;00m(\n\u001b[1;32m    416\u001b[0m                 \u001b[38;5;124m\"\u001b[39m\u001b[38;5;124m`classes=\u001b[39m\u001b[38;5;132;01m%r\u001b[39;00m\u001b[38;5;124m` is not the same as on last call \u001b[39m\u001b[38;5;124m\"\u001b[39m\n\u001b[1;32m    417\u001b[0m                 \u001b[38;5;124m\"\u001b[39m\u001b[38;5;124mto partial_fit, was: \u001b[39m\u001b[38;5;132;01m%r\u001b[39;00m\u001b[38;5;124m\"\u001b[39m \u001b[38;5;241m%\u001b[39m (classes, clf\u001b[38;5;241m.\u001b[39mclasses_)\n\u001b[1;32m    418\u001b[0m             )\n\u001b[1;32m    420\u001b[0m     \u001b[38;5;28;01melse\u001b[39;00m:\n\u001b[1;32m    421\u001b[0m         \u001b[38;5;66;03m# This is the first call to partial_fit\u001b[39;00m\n\u001b[0;32m--> 422\u001b[0m         clf\u001b[38;5;241m.\u001b[39mclasses_ \u001b[38;5;241m=\u001b[39m \u001b[43munique_labels\u001b[49m\u001b[43m(\u001b[49m\u001b[43mclasses\u001b[49m\u001b[43m)\u001b[49m\n\u001b[1;32m    423\u001b[0m         \u001b[38;5;28;01mreturn\u001b[39;00m \u001b[38;5;28;01mTrue\u001b[39;00m\n\u001b[1;32m    425\u001b[0m \u001b[38;5;66;03m# classes is None and clf.classes_ has already previously been set:\u001b[39;00m\n\u001b[1;32m    426\u001b[0m \u001b[38;5;66;03m# nothing to do\u001b[39;00m\n",
      "File \u001b[0;32m~/Documents/MyDocuments/rsu-54-20275335/venv/lib/python3.8/site-packages/sklearn/utils/multiclass.py:105\u001b[0m, in \u001b[0;36munique_labels\u001b[0;34m(*ys)\u001b[0m\n\u001b[1;32m    103\u001b[0m _unique_labels \u001b[38;5;241m=\u001b[39m _FN_UNIQUE_LABELS\u001b[38;5;241m.\u001b[39mget(label_type, \u001b[38;5;28;01mNone\u001b[39;00m)\n\u001b[1;32m    104\u001b[0m \u001b[38;5;28;01mif\u001b[39;00m \u001b[38;5;129;01mnot\u001b[39;00m _unique_labels:\n\u001b[0;32m--> 105\u001b[0m     \u001b[38;5;28;01mraise\u001b[39;00m \u001b[38;5;167;01mValueError\u001b[39;00m(\u001b[38;5;124m\"\u001b[39m\u001b[38;5;124mUnknown label type: \u001b[39m\u001b[38;5;132;01m%s\u001b[39;00m\u001b[38;5;124m\"\u001b[39m \u001b[38;5;241m%\u001b[39m \u001b[38;5;28mrepr\u001b[39m(ys))\n\u001b[1;32m    107\u001b[0m \u001b[38;5;28;01mif\u001b[39;00m is_array_api_compliant:\n\u001b[1;32m    108\u001b[0m     \u001b[38;5;66;03m# array_api does not allow for mixed dtypes\u001b[39;00m\n\u001b[1;32m    109\u001b[0m     unique_ys \u001b[38;5;241m=\u001b[39m xp\u001b[38;5;241m.\u001b[39mconcat([_unique_labels(y) \u001b[38;5;28;01mfor\u001b[39;00m y \u001b[38;5;129;01min\u001b[39;00m ys])\n",
      "\u001b[0;31mValueError\u001b[0m: Unknown label type: (array([ 2.76923077,  3.        ,  3.33333333,  3.75      ,  4.        ,\n        4.5       ,  5.        ,  5.25      ,  5.5       ,  5.71428571,\n        6.        ,  6.25      ,  6.5       ,  7.        ,  7.25      ,\n        7.5       ,  7.57894737,  7.75      ,  8.        ,  8.33333333,\n        8.4       ,  8.5       ,  8.57142857,  8.72727273,  8.75      ,\n        8.85714286,  9.        ,  9.25      ,  9.5       ,  9.75      ,\n       10.        , 10.5       , 10.75      , 10.8       , 11.        ,\n       11.2173913 , 11.25      , 11.5       , 11.75      , 12.        ,\n       12.25      , 13.        , 15.        , 16.        ]),)"
     ]
    }
   ],
   "source": [
    "from bowling_decision_trees_model import predict_player_performance\n",
    "\n",
    "# Assuming 'master_df' is already loaded\n",
    "player_name = 'Tim Southee'\n",
    "mse = predict_player_performance(player_name, master_df)\n",
    "print('Decision Trees Predicted Ratio:', mse)\n"
   ]
  },
  {
   "cell_type": "code",
   "execution_count": null,
   "id": "b6f49c15-2e09-43b4-8b62-8e18a188b9b6",
   "metadata": {},
   "outputs": [],
   "source": []
  }
 ],
 "metadata": {
  "kernelspec": {
   "display_name": "Python 3 (ipykernel)",
   "language": "python",
   "name": "python3"
  },
  "language_info": {
   "codemirror_mode": {
    "name": "ipython",
    "version": 3
   },
   "file_extension": ".py",
   "mimetype": "text/x-python",
   "name": "python",
   "nbconvert_exporter": "python",
   "pygments_lexer": "ipython3",
   "version": "3.8.0"
  }
 },
 "nbformat": 4,
 "nbformat_minor": 5
}
